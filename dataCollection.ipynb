{
 "cells": [
  {
   "cell_type": "markdown",
   "metadata": {},
   "source": [
    "# Data Collection"
   ]
  },
  {
   "cell_type": "code",
   "execution_count": 4,
   "metadata": {},
   "outputs": [],
   "source": [
    "import cv2\n",
    "import os\n",
    "import time\n",
    "import uuid"
   ]
  },
  {
   "cell_type": "code",
   "execution_count": 3,
   "metadata": {},
   "outputs": [],
   "source": [
    "#REMEMBER TO MAKE SEPARATE FOLDER IN COLLECTION"
   ]
  },
  {
   "cell_type": "code",
   "execution_count": 7,
   "metadata": {},
   "outputs": [
    {
     "name": "stdout",
     "output_type": "stream",
     "text": [
      "Image collection for No\n"
     ]
    }
   ],
   "source": [
    "img_path = 'images/collection/'\n",
    "labels = ['No']\n",
    "imgsNum = 60\n",
    "\n",
    "for label in labels:\n",
    "    capture = cv2.VideoCapture(0)\n",
    "    print('Image collection for ' + label)\n",
    "    time.sleep(5)\n",
    "\n",
    "    for num in range(imgsNum):\n",
    "        ret, frame = capture.read()\n",
    "        imgName = os.path.join(img_path, label, label+'.'+'{}.jpg'.format(str(uuid.uuid1())))\n",
    "        cv2.imwrite(imgName, frame)\n",
    "        cv2.imshow('Frame', frame)\n",
    "        time.sleep(1)\n",
    "        if cv2.waitKey(1) & 0xFF == ord('q'):\n",
    "            break\n",
    "\n",
    "    capture.release()\n",
    "\n",
    "cv2.destroyAllWindows()"
   ]
  }
 ],
 "metadata": {
  "kernelspec": {
   "display_name": "Python 3",
   "language": "python",
   "name": "python3"
  },
  "language_info": {
   "codemirror_mode": {
    "name": "ipython",
    "version": 3
   },
   "file_extension": ".py",
   "mimetype": "text/x-python",
   "name": "python",
   "nbconvert_exporter": "python",
   "pygments_lexer": "ipython3",
   "version": "3.9.18"
  }
 },
 "nbformat": 4,
 "nbformat_minor": 2
}
